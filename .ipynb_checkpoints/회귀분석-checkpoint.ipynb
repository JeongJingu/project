{
 "cells": [
  {
   "cell_type": "markdown",
   "id": "784d5bf4",
   "metadata": {},
   "source": [
    "## 필요한 라이브러리 임폴트"
   ]
  },
  {
   "cell_type": "code",
   "execution_count": 12,
   "id": "2712634f",
   "metadata": {},
   "outputs": [],
   "source": [
    "import pandas as pd\n",
    "import statsmodels.api as sm"
   ]
  },
  {
   "cell_type": "markdown",
   "id": "a6439414",
   "metadata": {},
   "source": [
    "## 데이터 불러오기"
   ]
  },
  {
   "cell_type": "code",
   "execution_count": 13,
   "id": "725ab655",
   "metadata": {},
   "outputs": [],
   "source": [
    "data = pd.read_csv('final_data.csv')\n",
    "# print(data)"
   ]
  },
  {
   "cell_type": "code",
   "execution_count": 44,
   "id": "7f864fa2",
   "metadata": {},
   "outputs": [],
   "source": [
    "## 분석할 컬럼 \n",
    "\n",
    "# 통합 분석 시 사용\n",
    "a = ['광역시도명', '시군구명','시간대별 시간','강수 유형명', '습도값',\n",
    "     '강수량 값','기온값','년도', '월','요일','풍속값','계절']\n",
    "\n",
    "# 서울, 경기 분석 시 사용\n",
    "b = ['시군구명','시간대별 시간','강수 유형명', '습도값', '강수량 값',\n",
    "     '기온값','년도', '월','요일','풍속값','계절']\n",
    "\n",
    "# 인천, 분석 시 사용 (인천은 부평구 밖에 없기 때문)\n",
    "c = ['시간대별 시간','강수 유형명', '습도값', '강수량 값',\n",
    "     '기온값','년도', '월','요일','풍속값','계절']"
   ]
  },
  {
   "cell_type": "markdown",
   "id": "0071e031",
   "metadata": {},
   "source": [
    "### 1. 서울, 경기, 인천 통합"
   ]
  },
  {
   "cell_type": "markdown",
   "id": "f3034054",
   "metadata": {},
   "source": [
    "### 1). 통합 데이터 추출"
   ]
  },
  {
   "cell_type": "code",
   "execution_count": 32,
   "id": "73be6386",
   "metadata": {
    "collapsed": true
   },
   "outputs": [
    {
     "name": "stdout",
     "output_type": "stream",
     "text": [
      "        광역시도명  시군구명  시간대별 시간  강수 유형명   습도값  강수량 값   기온값    년도  월  요일  풍속값  계절\n",
      "0           0     4       18       0  0.91    0.0  22.6  2019  7   4  1.5   1\n",
      "1           0     4       21       0  0.63    0.0  28.6  2019  7   4  2.1   1\n",
      "2           0     4       12       0  0.92    0.0  25.9  2019  7   0  1.0   1\n",
      "3           0     4       15       0  0.96    0.0  24.4  2019  7   0  0.1   1\n",
      "4           0     4       18       0  0.94    0.0  24.7  2019  7   0  0.6   1\n",
      "...       ...   ...      ...     ...   ...    ...   ...   ... ..  ..  ...  ..\n",
      "129288      2    19       19       1  0.98    1.0  24.4  2020  7   4  0.8   1\n",
      "129289      2    19       20       0  0.98    0.0  24.4  2020  7   4  1.1   1\n",
      "129290      2    19       21       0  0.97    0.0  24.8  2020  7   4  1.5   1\n",
      "129291      2    19       22       0  0.95    0.0  25.2  2020  7   4  1.9   1\n",
      "129292      2    19       23       0  0.96    1.0  25.3  2020  7   4  1.4   1\n",
      "\n",
      "[129293 rows x 12 columns] 0          8\n",
      "1          4\n",
      "2          5\n",
      "3          9\n",
      "4          8\n",
      "          ..\n",
      "129288    11\n",
      "129289    11\n",
      "129290    11\n",
      "129291    11\n",
      "129292    11\n",
      "Name: 가장 많은 배달, Length: 129293, dtype: int64\n"
     ]
    }
   ],
   "source": [
    "## 분석할 컬럼만 추출한 데이터\n",
    "total_x = data[a]\n",
    "total_y = data['가장 많은 배달'] # 모델링 결과값으로 얻고자 하는 변수 \n",
    "\n",
    "## 추출한 데이터 확인 \n",
    "print(total_x, total_y)"
   ]
  },
  {
   "cell_type": "markdown",
   "id": "ed3c7360",
   "metadata": {},
   "source": [
    "### 2). 회귀분석"
   ]
  },
  {
   "cell_type": "code",
   "execution_count": 33,
   "id": "05594915",
   "metadata": {
    "collapsed": true
   },
   "outputs": [
    {
     "name": "stdout",
     "output_type": "stream",
     "text": [
      "        변수명        pvalue  0.05 이상\n",
      "0     광역시도명  1.808173e-32    False\n",
      "1      시군구명  4.028162e-50    False\n",
      "2   시간대별 시간  4.447695e-01     True\n",
      "3    강수 유형명  3.111227e-02    False\n",
      "4       습도값  1.405553e-10    False\n",
      "5     강수량 값  1.933250e-01     True\n",
      "6       기온값  1.025983e-44    False\n",
      "7        년도  6.496526e-36    False\n",
      "8         월  3.185316e-14    False\n",
      "9        요일  2.225395e-10    False\n",
      "10      풍속값  1.543782e-42    False\n",
      "11       계절  6.884502e-09    False\n"
     ]
    }
   ],
   "source": [
    "## 1). 각 독립변수 별 회귀분석\n",
    "\n",
    "# 컬럼 이름, pvalue 값을 넣기 위한 빈 list 생성\n",
    "col_name = []\n",
    "pvalue = []\n",
    "\n",
    "## 반복문을 통하여 각 컬럼별 회귀분석 진행 후 빈 list에 값 추가\n",
    "for i in a:\n",
    "    X = total_x[i]\n",
    "    Y = total_y # 최종 모델링 결과값으로 얻고자 하는 변수 \n",
    "    \n",
    "    # 회귀분석 \n",
    "    results = sm.OLS(Y, sm.add_constant(X)).fit()\n",
    "    \n",
    "    # 통계적으로 유의한지 확인하기 위한 pvalue 값만 확인\n",
    "    k = results.pvalues\n",
    "    \n",
    "    # 각 변수 명과 pvalue값 빈 list에 추가\n",
    "    col_name.append(k.index[1])\n",
    "    pvalue.append(k[1])\n",
    "    \n",
    "## col_name과 pvalue list 확인\n",
    "# print(col_name, pvalue)\n",
    "\n",
    "## list 이용하여 DataFrame 생성\n",
    "reg_total = pd.DataFrame(col_name, columns =['변수명'])\n",
    "reg_total['pvalue'] = pvalue\n",
    "reg_total['0.05 이상'] = reg_total['pvalue'] >= 0.05 # 0.05 귀무가설 기각 --> 통계적으로 유의하지 않다.\n",
    "\n",
    "## 생성된 DataFrame 확인\n",
    "print(reg_total)"
   ]
  },
  {
   "cell_type": "code",
   "execution_count": 20,
   "id": "468e3132",
   "metadata": {
    "collapsed": true
   },
   "outputs": [
    {
     "name": "stdout",
     "output_type": "stream",
     "text": [
      "        변수명        pvalue  0.05 이상\n",
      "0     광역시도명  1.808173e-32    False\n",
      "1      시군구명  4.028162e-50    False\n",
      "2   시간대별 시간  4.447695e-01     True\n",
      "3    강수 유형명  3.111227e-02    False\n",
      "4       습도값  1.405553e-10    False\n",
      "5     강수량 값  1.933250e-01     True\n",
      "6       기온값  1.025983e-44    False\n",
      "7        년도  6.496526e-36    False\n",
      "8         월  3.185316e-14    False\n",
      "9        요일  2.225395e-10    False\n",
      "10      풍속값  1.543782e-42    False\n",
      "11       계절  6.884502e-09    False\n"
     ]
    }
   ],
   "source": [
    "## 2). 다중회귀분석\n",
    "X = total_x\n",
    "Y = total_y\n",
    "\n",
    "## 모든 x 컬럼과 y 컬럼 다중 회귀분석\n",
    "results = sm.OLS(Y, sm.add_constant(X)).fit()\n",
    "\n",
    "## 결과 중 pvalue만 추출 \n",
    "t = results.pvalues.iloc[1:]\n",
    "\n",
    "## 추출한 결과 Dataframe 생성\n",
    "mulreg_total = pd.DataFrame(col_name, columns = ['변수명'])\n",
    "mulreg_total['pvalue'] = pvalue\n",
    "mulreg_total['0.05 이상'] = mulreg_total['pvalue'] >= 0.05\n",
    "\n",
    "## 생성된 DataFrame 확인\n",
    "print(mulreg_total)"
   ]
  },
  {
   "cell_type": "markdown",
   "id": "b45f8b27",
   "metadata": {},
   "source": [
    "### 2. 서울"
   ]
  },
  {
   "cell_type": "markdown",
   "id": "7c8197be",
   "metadata": {},
   "source": [
    "### 1). 서울 데이터 추출"
   ]
  },
  {
   "cell_type": "code",
   "execution_count": 28,
   "id": "7c62be6d",
   "metadata": {},
   "outputs": [],
   "source": [
    "## 광역시도명 == 1 인 데이터 추출 \n",
    "seoul = data[data['광역시도명'] == 1]\n",
    "seoul_x = seoul[b]\n",
    "seoul_y = seoul['가장 많은 배달']\n",
    "\n",
    "## 추출한 데이터 확인 \n",
    "# print(seoul_x, seoul_y)"
   ]
  },
  {
   "cell_type": "markdown",
   "id": "5ee4eb1d",
   "metadata": {},
   "source": [
    "### 2). 회귀분석"
   ]
  },
  {
   "cell_type": "code",
   "execution_count": 38,
   "id": "5608fe93",
   "metadata": {
    "collapsed": true
   },
   "outputs": [
    {
     "name": "stdout",
     "output_type": "stream",
     "text": [
      "        변수명         pvalue  0.05 이상\n",
      "0      시군구명   0.000000e+00    False\n",
      "1   시간대별 시간   8.685791e-02     True\n",
      "2    강수 유형명   2.557319e-02    False\n",
      "3       습도값   4.906856e-06    False\n",
      "4     강수량 값   2.336478e-02    False\n",
      "5       기온값  1.266686e-108    False\n",
      "6        년도   4.650426e-19    False\n",
      "7         월   1.477444e-19    False\n",
      "8        요일   3.533867e-06    False\n",
      "9       풍속값   2.659669e-04    False\n",
      "10       계절   6.832116e-58    False\n"
     ]
    }
   ],
   "source": [
    "## 1). 각 독립변수 별 회귀분석\n",
    "\n",
    "# 컬럼 이름, pvalue 값을 넣기 위한 빈 list 생성\n",
    "col_name_seoul = []\n",
    "pvalue_seoul = []\n",
    "\n",
    "## 반복문을 통하여 각 컬럼별 회귀분석 진행 후 빈 list에 값 추가\n",
    "for i in b:\n",
    "    X = seoul_x[i]\n",
    "    Y = seoul_y # 최종 모델링 결과값으로 얻고자 하는 변수 \n",
    "    \n",
    "    # 회귀분석 \n",
    "    results = sm.OLS(Y, sm.add_constant(X)).fit()\n",
    "    \n",
    "    # 통계적으로 유의한지 확인하기 위한 pvalue 값만 확인\n",
    "    k = results.pvalues\n",
    "    \n",
    "    # 각 변수 명과 pvalue값 빈 list에 추가\n",
    "    col_name_seoul.append(k.index[1])\n",
    "    pvalue_seoul.append(k[1])\n",
    "    \n",
    "## col_name과 pvalue list 확인\n",
    "# print(col_name, pvalue)\n",
    "\n",
    "## list 이용하여 DataFrame 생성\n",
    "reg_seoul = pd.DataFrame(col_name_seoul, columns =['변수명'])\n",
    "reg_seoul['pvalue'] = pvalue_seoul\n",
    "reg_seoul['0.05 이상'] = reg_seoul['pvalue'] >= 0.05 # 0.05 귀무가설 기각 --> 통계적으로 유의하지 않다.\n",
    "\n",
    "## 생성된 DataFrame 확인\n",
    "print(reg_seoul)"
   ]
  },
  {
   "cell_type": "code",
   "execution_count": 39,
   "id": "9c3ae0a9",
   "metadata": {
    "collapsed": true
   },
   "outputs": [
    {
     "name": "stdout",
     "output_type": "stream",
     "text": [
      "                pvalue  0.05 이상\n",
      "시군구명      0.000000e+00    False\n",
      "시간대별 시간   3.729963e-06    False\n",
      "강수 유형명    8.996650e-10    False\n",
      "습도값       4.468877e-83    False\n",
      "강수량 값     3.052368e-01     True\n",
      "기온값      9.293227e-134    False\n",
      "년도        1.686044e-03    False\n",
      "월         8.546204e-08    False\n",
      "요일        1.222913e-06    False\n",
      "풍속값       2.333876e-35    False\n",
      "계절        3.400946e-01     True\n"
     ]
    }
   ],
   "source": [
    "## 2). 다중회귀분석\n",
    "X = seoul_x\n",
    "Y = seoul_y\n",
    "\n",
    "## 모든 x 컬럼과 y 컬럼 다중 회귀분석\n",
    "results = sm.OLS(Y, sm.add_constant(X)).fit()\n",
    "\n",
    "## 결과 중 pvalue만 추출 \n",
    "t = results.pvalues.iloc[1:]\n",
    "\n",
    "## 추출한 결과 Dataframe 생성\n",
    "mulreg_seoul = pd.DataFrame(t, columns = ['pvalue'])\n",
    "mulreg_seoul['0.05 이상'] = mulreg_seoul['pvalue'] >= 0.05\n",
    "\n",
    "## 생성된 DataFrame 확인\n",
    "print(mulreg_seoul)"
   ]
  },
  {
   "cell_type": "markdown",
   "id": "fd70f4a4",
   "metadata": {},
   "source": [
    "### 3. 경기"
   ]
  },
  {
   "cell_type": "markdown",
   "id": "52fd08a8",
   "metadata": {},
   "source": [
    "### 1). 경기도 데이터 추출"
   ]
  },
  {
   "cell_type": "code",
   "execution_count": 34,
   "id": "dfc00ce3",
   "metadata": {
    "collapsed": true
   },
   "outputs": [
    {
     "name": "stdout",
     "output_type": "stream",
     "text": [
      "        시군구명  시간대별 시간  강수 유형명   습도값  강수량 값   기온값    년도  월  요일  풍속값  계절\n",
      "0          4       18       0  0.91    0.0  22.6  2019  7   4  1.5   1\n",
      "1          4       21       0  0.63    0.0  28.6  2019  7   4  2.1   1\n",
      "2          4       12       0  0.92    0.0  25.9  2019  7   0  1.0   1\n",
      "3          4       15       0  0.96    0.0  24.4  2019  7   0  0.1   1\n",
      "4          4       18       0  0.94    0.0  24.7  2019  7   0  0.6   1\n",
      "...      ...      ...     ...   ...    ...   ...   ... ..  ..  ...  ..\n",
      "125188    46       19       0  1.00    0.0  24.5  2020  7   4  1.5   1\n",
      "125189    46       20       0  1.00    0.0  24.7  2020  7   4  1.3   1\n",
      "125190    46       21       0  0.98    0.0  25.2  2020  7   4  1.9   1\n",
      "125191    46       22       0  0.90    0.0  26.3  2020  7   4  1.9   1\n",
      "125192    46       23       0  0.88    0.0  26.9  2020  7   4  2.7   1\n",
      "\n",
      "[81345 rows x 11 columns] 0          8\n",
      "1          4\n",
      "2          5\n",
      "3          9\n",
      "4          8\n",
      "          ..\n",
      "125188     8\n",
      "125189     8\n",
      "125190     8\n",
      "125191    10\n",
      "125192    11\n",
      "Name: 가장 많은 배달, Length: 81345, dtype: int64\n"
     ]
    }
   ],
   "source": [
    "## 광역시도명 == 0인 데이터 추출 \n",
    "gyeonggi = data[data['광역시도명'] == 0]\n",
    "gyeonggi_x = gyeonggi[b]\n",
    "gyeonggi_y = gyeonggi['가장 많은 배달']\n",
    "\n",
    "## 추출한 데이터 확인\n",
    "print(gyeonggi_x, gyeonggi_y)"
   ]
  },
  {
   "cell_type": "markdown",
   "id": "6d987d42",
   "metadata": {},
   "source": [
    "### 2). 회귀분석"
   ]
  },
  {
   "cell_type": "code",
   "execution_count": 40,
   "id": "e9ab0191",
   "metadata": {
    "collapsed": true
   },
   "outputs": [
    {
     "name": "stdout",
     "output_type": "stream",
     "text": [
      "        변수명         pvalue  0.05 이상\n",
      "0      시군구명  5.682255e-263    False\n",
      "1   시간대별 시간   5.819520e-01     True\n",
      "2    강수 유형명   3.644286e-01     True\n",
      "3       습도값   2.295685e-02    False\n",
      "4     강수량 값   6.717160e-01     True\n",
      "5       기온값   1.949776e-04    False\n",
      "6        년도   6.279162e-19    False\n",
      "7         월   6.861126e-14    False\n",
      "8        요일   3.143496e-08    False\n",
      "9       풍속값   2.425121e-10    False\n",
      "10       계절   2.103086e-14    False\n"
     ]
    }
   ],
   "source": [
    "## 1). 각 독립변수 별 회귀분석\n",
    "\n",
    "# 컬럼 이름, pvalue 값을 넣기 위한 빈 list 생성\n",
    "col_name_gyeonggi = []\n",
    "pvalue_gyeonggi = []\n",
    "\n",
    "## 반복문을 통하여 각 컬럼별 회귀분석 진행 후 빈 list에 값 추가\n",
    "for i in b:\n",
    "    X = gyeonggi_x[i]\n",
    "    Y = gyeonggi_y # 최종 모델링 결과값으로 얻고자 하는 변수 \n",
    "    \n",
    "    # 회귀분석 \n",
    "    results = sm.OLS(Y, sm.add_constant(X)).fit()\n",
    "    \n",
    "    # 통계적으로 유의한지 확인하기 위한 pvalue 값만 확인\n",
    "    k = results.pvalues\n",
    "    \n",
    "    # 각 변수 명과 pvalue값 빈 list에 추가\n",
    "    col_name_gyeonggi.append(k.index[1])\n",
    "    pvalue_gyeonggi.append(k[1])\n",
    "    \n",
    "## col_name과 pvalue list 확인\n",
    "# print(col_name, pvalue)\n",
    "\n",
    "## list 이용하여 DataFrame 생성\n",
    "reg_gyeonggi = pd.DataFrame(col_name, columns =['변수명'])\n",
    "reg_gyeonggi['pvalue'] = pvalue\n",
    "reg_gyeonggi['0.05 이상'] = reg_gyeonggi['pvalue'] >= 0.05 # 0.05 귀무가설 기각 --> 통계적으로 유의하지 않다.\n",
    "\n",
    "## 생성된 DataFrame 확인\n",
    "print(reg_gyeonggi)"
   ]
  },
  {
   "cell_type": "code",
   "execution_count": 41,
   "id": "1a3f1c3d",
   "metadata": {
    "collapsed": true
   },
   "outputs": [
    {
     "name": "stdout",
     "output_type": "stream",
     "text": [
      "                pvalue  0.05 이상\n",
      "시군구명     5.208448e-270    False\n",
      "시간대별 시간   8.753441e-03    False\n",
      "강수 유형명    2.700897e-01    False\n",
      "습도값       6.763000e-02    False\n",
      "강수량 값     8.074669e-01     True\n",
      "기온값       3.248463e-07    False\n",
      "년도        2.711807e-24    False\n",
      "월         2.391686e-02    False\n",
      "요일        9.837333e-09    False\n",
      "풍속값       7.016365e-12    False\n",
      "계절        4.674640e-33     True\n"
     ]
    }
   ],
   "source": [
    "## 2). 다중회귀분석\n",
    "X = gyeonggi_x\n",
    "Y = gyeonggi_y\n",
    "\n",
    "## 모든 x 컬럼과 y 컬럼 다중 회귀분석\n",
    "results = sm.OLS(Y, sm.add_constant(X)).fit()\n",
    "\n",
    "## 결과 중 pvalue만 추출 \n",
    "t = results.pvalues.iloc[1:]\n",
    "\n",
    "## 추출한 결과 Dataframe 생성\n",
    "mulreg_gyeonggi = pd.DataFrame(t, columns = ['pvalue'])\n",
    "mulreg_gyeonggi['0.05 이상'] = mulreg_gyeonggi['pvalue'] >= 0.05\n",
    "\n",
    "## 생성된 DataFrame 확인\n",
    "print(mulreg_gyeonggi)"
   ]
  },
  {
   "cell_type": "markdown",
   "id": "c6d2567e",
   "metadata": {},
   "source": [
    "### 4. 인천"
   ]
  },
  {
   "cell_type": "markdown",
   "id": "e5c5ac36",
   "metadata": {},
   "source": [
    "### 1). 인천 데이터 추출"
   ]
  },
  {
   "cell_type": "code",
   "execution_count": 45,
   "id": "08222684",
   "metadata": {},
   "outputs": [],
   "source": [
    "## 광역시도명 == 2인 데이터 추출\n",
    "incheon = data[data['광역시도명'] == 2]\n",
    "incheon_x = incheon[c]\n",
    "incheon_y = incheon['가장 많은 배달']\n",
    "\n",
    "## 추출한 데이터 확인\n",
    "# print(incheon_x, incheon_y)"
   ]
  },
  {
   "cell_type": "markdown",
   "id": "7be4f64b",
   "metadata": {},
   "source": [
    "### 2). 회귀분석"
   ]
  },
  {
   "cell_type": "code",
   "execution_count": 46,
   "id": "6bd1d6dc",
   "metadata": {
    "collapsed": true
   },
   "outputs": [
    {
     "name": "stdout",
     "output_type": "stream",
     "text": [
      "        변수명         pvalue  0.05 이상\n",
      "0      시군구명  5.682255e-263    False\n",
      "1   시간대별 시간   5.819520e-01     True\n",
      "2    강수 유형명   3.644286e-01     True\n",
      "3       습도값   2.295685e-02    False\n",
      "4     강수량 값   6.717160e-01     True\n",
      "5       기온값   1.949776e-04    False\n",
      "6        년도   6.279162e-19    False\n",
      "7         월   6.861126e-14    False\n",
      "8        요일   3.143496e-08    False\n",
      "9       풍속값   2.425121e-10    False\n",
      "10       계절   2.103086e-14    False\n"
     ]
    }
   ],
   "source": [
    "## 1). 각 독립변수 별 회귀분석\n",
    "\n",
    "# 컬럼 이름, pvalue 값을 넣기 위한 빈 list 생성\n",
    "col_name_incheon = []\n",
    "pvalue_incheon = []\n",
    "\n",
    "## 반복문을 통하여 각 컬럼별 회귀분석 진행 후 빈 list에 값 추가\n",
    "for i in c:\n",
    "    X = incheon_x[i]\n",
    "    Y = incheon_y # 최종 모델링 결과값으로 얻고자 하는 변수 \n",
    "    \n",
    "    # 회귀분석 \n",
    "    results = sm.OLS(Y, sm.add_constant(X)).fit()\n",
    "    \n",
    "    # 통계적으로 유의한지 확인하기 위한 pvalue 값만 확인\n",
    "    k = results.pvalues\n",
    "    \n",
    "    # 각 변수 명과 pvalue값 빈 list에 추가\n",
    "    col_name_gyeonggi.append(k.index[1])\n",
    "    pvalue_gyeonggi.append(k[1])\n",
    "    \n",
    "## col_name과 pvalue list 확인\n",
    "# print(col_name, pvalue)\n",
    "\n",
    "## list 이용하여 DataFrame 생성\n",
    "reg_incheon = pd.DataFrame(col_name, columns =['변수명'])\n",
    "reg_incheon['pvalue'] = pvalue\n",
    "reg_incheon['0.05 이상'] = reg_incheon['pvalue'] >= 0.05 # 0.05 귀무가설 기각 --> 통계적으로 유의하지 않다.\n",
    "\n",
    "## 생성된 DataFrame 확인\n",
    "print(reg_incheon)"
   ]
  },
  {
   "cell_type": "code",
   "execution_count": 47,
   "id": "318f2cea",
   "metadata": {
    "collapsed": true
   },
   "outputs": [
    {
     "name": "stdout",
     "output_type": "stream",
     "text": [
      "                pvalue  0.05 이상\n",
      "시간대별 시간   7.616366e-22    False\n",
      "강수 유형명    6.345478e-02     True\n",
      "습도값       4.070993e-02    False\n",
      "강수량 값     8.411477e-01     True\n",
      "기온값      2.499990e-122    False\n",
      "년도        9.443427e-40    False\n",
      "월        2.742973e-107    False\n",
      "요일        2.433956e-04    False\n",
      "풍속값       3.164635e-14    False\n",
      "계절        5.395277e-01     True\n"
     ]
    }
   ],
   "source": [
    "## 2). 다중회귀분석\n",
    "X = incheon_x\n",
    "Y = incheon_y\n",
    "\n",
    "## 모든 x 컬럼과 y 컬럼 다중 회귀분석\n",
    "results = sm.OLS(Y, sm.add_constant(X)).fit()\n",
    "\n",
    "## 결과 중 pvalue만 추출 \n",
    "t = results.pvalues.iloc[1:]\n",
    "\n",
    "## 추출한 결과 Dataframe 생성\n",
    "mulreg_incheon = pd.DataFrame(t, columns = ['pvalue'])\n",
    "mulreg_incheon['0.05 이상'] = mulreg_incheon['pvalue'] >= 0.05\n",
    "\n",
    "## 생성된 DataFrame 확인\n",
    "print(mulreg_incheon)"
   ]
  },
  {
   "cell_type": "markdown",
   "id": "ac237397",
   "metadata": {},
   "source": [
    "### 5. 회귀분석 정리 데이터프레임 생성"
   ]
  },
  {
   "cell_type": "code",
   "execution_count": null,
   "id": "21c76aae",
   "metadata": {},
   "outputs": [],
   "source": []
  }
 ],
 "metadata": {
  "kernelspec": {
   "display_name": "Python 3 (ipykernel)",
   "language": "python",
   "name": "python3"
  },
  "language_info": {
   "codemirror_mode": {
    "name": "ipython",
    "version": 3
   },
   "file_extension": ".py",
   "mimetype": "text/x-python",
   "name": "python",
   "nbconvert_exporter": "python",
   "pygments_lexer": "ipython3",
   "version": "3.10.9"
  }
 },
 "nbformat": 4,
 "nbformat_minor": 5
}
