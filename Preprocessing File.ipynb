{
 "cells": [
  {
   "cell_type": "markdown",
   "id": "293ef4bc",
   "metadata": {},
   "source": [
    "## 필요한 라이브러리 임폴트"
   ]
  },
  {
   "cell_type": "code",
   "execution_count": 1,
   "id": "4c1b7ca0",
   "metadata": {},
   "outputs": [],
   "source": [
    "import pandas as pd\n",
    "import numpy as np"
   ]
  },
  {
   "cell_type": "markdown",
   "id": "ad5f50be",
   "metadata": {},
   "source": [
    "## 데이터 불러오기"
   ]
  },
  {
   "cell_type": "code",
   "execution_count": 2,
   "id": "e6671eb6",
   "metadata": {},
   "outputs": [],
   "source": [
    "## 기본 데이터 불러오기\n",
    "data1 = pd.read_csv('날씨 데이터_20190701.csv')\n",
    "data2 = pd.read_csv('날씨 데이터_20200101.csv')\n",
    "data3 = pd.read_csv('날씨 데이터_20200701.csv')\n",
    "data4 = pd.read_excel('날씨 데이터 정의서.xlsx')\n",
    "\n",
    "## 데이터 컬럼명 한글로 변경\n",
    "data1.columns = data4['컬럼한글명'].values\n",
    "data2.columns = data4['컬럼한글명'].values\n",
    "data3.columns = data4['컬럼한글명'].values\n",
    "\n",
    "## data1, data2, data3 통합\n",
    "data = pd.concat([data1,data2,data3], axis = 0, ignore_index = True)\n",
    "\n",
    "## 가장 높은 배달건수 전처리 완료 데이터\n",
    "clean_data2 = pd.read_csv('clean_data2.csv')\n",
    "\n",
    "## 최종 데이터\n",
    "final_data = pd.read_csv('final_data.csv')"
   ]
  },
  {
   "cell_type": "markdown",
   "id": "4cfb2813",
   "metadata": {},
   "source": [
    "## 참고 딕셔너리"
   ]
  },
  {
   "cell_type": "code",
   "execution_count": null,
   "id": "af98f84c",
   "metadata": {},
   "outputs": [],
   "source": [
    "### 필요한 딕셔너리들 (요일, 계절, 배달 업종, 시군구명)\n",
    "dow_idx_dict = {'월':0, '화':1,'수':2, '목':3, '금':4, '토':5, '일':6, '공휴일' : 7}\n",
    "idx_dow_dict = {0: '월', 1: '화', 2: '수', 3: '목', 4: '금', 5: '토', 6: '일', 7: '공휴일'}\n",
    "\n",
    "season_idx_dict = {'봄':0,'여름':1,'가을':2,'겨울':3}\n",
    "idx_season_dict = {0: '봄', 1: '여름', 2: '가을', 3: '겨울'}\n",
    "\n",
    "delv_idx_dict = {'도시락_배달건수': 0,'돈까스/일식_배달건수': 1,'분식_배달건수': 2,'아시안/양식_배달건수': 3,'야식_배달건수': 4,\n",
    " '족발/보쌈_배달건수': 5,'중식_배달건수': 6,'찜탕_배달건수': 7,'카페/디저트_배달건수': 8,'패스트푸드_배달건수': 9,'피자_배달건수': 10,\n",
    " '한식_배달건수': 11, '회_배달건수': 12}\n",
    "\n",
    "idx_delv_dict = {0: '도시락_배달건수', 1: '돈까스/일식_배달건수',2: '분식_배달건수',3: '아시안/양식_배달건수',4: '야식_배달건수',\n",
    "5: '족발/보쌈_배달건수',6: '중식_배달건수',7: '찜탕_배달건수',8: '카페/디저트_배달건수',9: '패스트푸드_배달건수',\n",
    "10: '피자_배달건수',11: '한식_배달건수',12: '회_배달건수'}\n",
    "\n",
    "new_region_index_dict={'강남구': 0, '강동구': 1, '강북구': 2, '강서구': 3, '고양시': 4, '과천시': 5, '관악구': 6, '광명시': 7, \n",
    "                       '광주시': 8, '구로구': 9, '구리시': 10, '군포시': 11, '금천구': 12, '김포시': 13, '남양주시': 14,\n",
    "                       '동두천시': 15, '동작구': 16, '마포구': 17, '부천시': 18, '부평구': 19, '서대문구': 20, '서초구': 21, \n",
    "                       '성남시': 22, '성동구': 23, '성북구': 24, '송파구': 25, '수원시': 26, '시흥시': 27, '안산시': 28,\n",
    "                       '안양시': 29, '양주시': 30, '양천구': 31, '양평군': 32, '여주시': 33, '연천군': 34, '영등포구': 35, '용인시': 36,\n",
    "                       '은평구': 37, '의왕시': 38, '의정부시': 39, '이천시': 40, '종로구': 41, '중랑구': 42, '파주시': 43, '평택시': 44,\n",
    "                       '포천시': 45, '화성시': 46}\n",
    "new_index_region_dict={0: '강남구', 1: '강동구', 2: '강북구', 3: '강서구', 4: '고양시', 5: '과천시', 6: '관악구', 7: '광명시',\n",
    "                       8: '광주시', 9: '구로구', 10: '구리시', 11: '군포시', 12: '금천구', 13: '김포시', 14: '남양주시', 15: '동두천시',\n",
    "                       16: '동작구', 17: '마포구', 18: '부천시', 19: '부평구', 20: '서대문구', 21: '서초구', 22: '성남시', 23: '성동구',\n",
    "                       24: '성북구', 25: '송파구', 26: '수원시', 27: '시흥시', 28: '안산시', 29: '안양시', 30: '양주시', 31: '양천구',\n",
    "                       32: '양평군', 33: '여주시', 34: '연천군', 35: '영등포구', 36: '용인시', 37: '은평구', 38: '의왕시', 39: '의정부시',\n",
    "                       40: '이천시', 41: '종로구', 42: '중랑구', 43: '파주시', 44: '평택시', 45: '포천시', 46: '화성시'}\n"
   ]
  },
  {
   "cell_type": "markdown",
   "id": "ee4a49ef",
   "metadata": {},
   "source": [
    "## 데이터 전처리 "
   ]
  },
  {
   "cell_type": "markdown",
   "id": "9b4fba4b",
   "metadata": {},
   "source": [
    "### 1. 누락 데이터 확인 "
   ]
  },
  {
   "cell_type": "code",
   "execution_count": 15,
   "id": "68693f5b",
   "metadata": {
    "collapsed": true
   },
   "outputs": [
    {
     "name": "stdout",
     "output_type": "stream",
     "text": [
      "<class 'pandas.core.frame.DataFrame'>\n",
      "RangeIndex: 380738 entries, 0 to 380737\n",
      "Data columns (total 27 columns):\n",
      " #   Column       Non-Null Count   Dtype  \n",
      "---  ------       --------------   -----  \n",
      " 0   광역시도명        380738 non-null  object \n",
      " 1   시군구명         380738 non-null  object \n",
      " 2   날짜           380738 non-null  object \n",
      " 3   시간대별 시간      380738 non-null  int64  \n",
      " 4   강수 유형명       380738 non-null  object \n",
      " 5   습도값          380738 non-null  int64  \n",
      " 6   강수량 값        380738 non-null  float64\n",
      " 7   기온값          380738 non-null  float64\n",
      " 8   풍속값          380738 non-null  float64\n",
      " 9   바람강도 유형명     380738 non-null  object \n",
      " 10  동쪽서쪽바람유형명    380738 non-null  object \n",
      " 11  풍향값          380738 non-null  int64  \n",
      " 12  풍향카테고리명      380738 non-null  object \n",
      " 13  한식_배달건수      380738 non-null  int64  \n",
      " 14  분식_배달건수      380738 non-null  int64  \n",
      " 15  카페/디저트_배달건수  380738 non-null  int64  \n",
      " 16  돈까스/일식_배달건수  380738 non-null  int64  \n",
      " 17  회_배달건수       380738 non-null  int64  \n",
      " 18  치킨_배달건수      380738 non-null  int64  \n",
      " 19  피자_배달건수      380738 non-null  int64  \n",
      " 20  아시안/양식_배달건수  380738 non-null  int64  \n",
      " 21  중식_배달건수      380738 non-null  int64  \n",
      " 22  족발/보쌈_배달건수   380738 non-null  int64  \n",
      " 23  야식_배달건수      380738 non-null  int64  \n",
      " 24  찜탕_배달건수      380738 non-null  int64  \n",
      " 25  도시락_배달건수     380738 non-null  int64  \n",
      " 26  패스트푸드_배달건수   380738 non-null  int64  \n",
      "dtypes: float64(3), int64(17), object(7)\n",
      "memory usage: 78.4+ MB\n"
     ]
    },
    {
     "data": {
      "text/plain": [
       "'\\n총 27개 컬럼, 38만738개 행\\n누락 데이터 없음 \\n'"
      ]
     },
     "execution_count": 15,
     "metadata": {},
     "output_type": "execute_result"
    }
   ],
   "source": [
    "data.info()\n",
    "'''\n",
    "총 27개 컬럼, 38만738개 행\n",
    "누락 데이터 없음 \n",
    "'''"
   ]
  },
  {
   "cell_type": "markdown",
   "id": "3f6b13b8",
   "metadata": {},
   "source": [
    "### 2. 지역별(서울, 경기, 인천) 데이터 추출"
   ]
  },
  {
   "cell_type": "code",
   "execution_count": 16,
   "id": "a72546c7",
   "metadata": {},
   "outputs": [],
   "source": [
    "## 서울, 경기, 인천 조건\n",
    "cond1 = data['광역시도명'] == '서울특별시'\n",
    "cond2 = data['광역시도명'] == '경기도'\n",
    "cond3 = data['광역시도명'] == '인천광역시'\n",
    "\n",
    "## 조건 인덱서 활용하여 추출 \n",
    "region_data = data[cond1|cond2|cond3].reset_index(drop = True)\n",
    "\n",
    "## 추출 데이터 확인\n",
    "# print(region_data)"
   ]
  },
  {
   "cell_type": "markdown",
   "id": "d001f88e",
   "metadata": {},
   "source": [
    "### 3. 필요없는 컬럼 제거"
   ]
  },
  {
   "cell_type": "code",
   "execution_count": 17,
   "id": "04b9273c",
   "metadata": {},
   "outputs": [],
   "source": [
    "## 의미 없는 컬럼 : 바람강도 유형명, 동쪽서쪽바람유형명','풍향값','풍향카테고리명'\n",
    "## 치킨_배달건수 : 어느 지역에서나 월등한 건수를 가지고 있어 존재시 항상 치킨만 결과값으로 도출할 가능성이 높아 제외\n",
    "clean_data = region_data.drop(columns = ['바람강도 유형명','동쪽서쪽바람유형명','풍향값','치킨_배달건수','풍향카테고리명'], axis = 0)\n",
    "\n",
    "## 제거 데이터 확인\n",
    "# print(clean_data)"
   ]
  },
  {
   "cell_type": "markdown",
   "id": "41ef91dd",
   "metadata": {},
   "source": [
    "### 4. 이상치 파악 및 행 제거"
   ]
  },
  {
   "cell_type": "code",
   "execution_count": 18,
   "id": "0d42b06a",
   "metadata": {
    "collapsed": true
   },
   "outputs": [
    {
     "name": "stdout",
     "output_type": "stream",
     "text": [
      "        광역시도명     시군구명          날짜  시간대별 시간 강수 유형명  습도값  강수량 값   기온값  풍속값  \\\n",
      "0         경기도      가평군  2019-12-17       17     없음   98    0.0   0.2  0.3   \n",
      "1         경기도  고양시 덕양구  2019-07-12       18     없음   91    0.0  22.6  1.5   \n",
      "2         경기도  고양시 덕양구  2019-07-19       21     없음   63    0.0  28.6  2.1   \n",
      "3         경기도  고양시 덕양구  2019-07-22       12     없음   92    0.0  25.9  1.0   \n",
      "4         경기도  고양시 덕양구  2019-07-22       15     없음   96    0.0  24.4  0.1   \n",
      "...       ...      ...         ...      ...    ...  ...    ...   ...  ...   \n",
      "197547  인천광역시       서구  2020-07-31       16     없음   96    0.0  24.4  0.3   \n",
      "197548  인천광역시       서구  2020-07-31       18     없음   98    0.0  24.6  1.5   \n",
      "197549  인천광역시       서구  2020-07-31       19      비   98    8.5  24.3  2.2   \n",
      "197550  인천광역시       서구  2020-07-31       20     없음   98    0.0  24.4  1.7   \n",
      "197551  인천광역시       서구  2020-07-31       21      비   97    0.0  24.6  1.7   \n",
      "\n",
      "        한식_배달건수  ...  돈까스/일식_배달건수  회_배달건수  피자_배달건수  아시안/양식_배달건수  중식_배달건수  \\\n",
      "0             0  ...            0       0        0            0        0   \n",
      "1             0  ...            0       0        0            0        0   \n",
      "2             0  ...            0       0        0            0        0   \n",
      "3             0  ...            0       0        0            0        0   \n",
      "4             0  ...            0       0        0            0        0   \n",
      "...         ...  ...          ...     ...      ...          ...      ...   \n",
      "197547        0  ...            0       0        0            0        0   \n",
      "197548        0  ...            0       0        0            0        0   \n",
      "197549        0  ...            0       0        0            0        0   \n",
      "197550        0  ...            0       0        0            0        0   \n",
      "197551        0  ...            0       0        0            0        0   \n",
      "\n",
      "        족발/보쌈_배달건수  야식_배달건수  찜탕_배달건수  도시락_배달건수  패스트푸드_배달건수  \n",
      "0                2        0        0         0           0  \n",
      "1                0        0        0         0           0  \n",
      "2                0        2        0         0           0  \n",
      "3                1        0        0         0           0  \n",
      "4                0        0        0         0           1  \n",
      "...            ...      ...      ...       ...         ...  \n",
      "197547           0        0        0         0           0  \n",
      "197548           0        0        0         0           0  \n",
      "197549           0        0        0         0           0  \n",
      "197550           0        0        0         0           0  \n",
      "197551           0        0        0         0           0  \n",
      "\n",
      "[197552 rows x 22 columns]\n"
     ]
    }
   ],
   "source": [
    "## 배달건수 컬럼들 건수가 모두 0인 행 추출\n",
    "out_data = clean_data[(clean_data['한식_배달건수'] == 0)&(clean_data['분식_배달건수'] == 0)&(clean_data['카페/디저트_배달건수'] == 0)&(clean_data['돈까스/일식_배달건수'] == 0)\n",
    "              &(clean_data['회_배달건수'] == 0)&(clean_data['피자_배달건수'] == 0)&(clean_data['아시안/양식_배달건수'] == 0)&(clean_data['중식_배달건수'] == 0)\n",
    "              &(clean_data['족발/보쌈_배달건수'] == 0)&(clean_data['야식_배달건수'] == 0)&(clean_data['찜탕_배달건수'] == 0)&(clean_data['도시락_배달건수'] == 0)\n",
    "              &(clean_data['패스트푸드_배달건수'] == 0)]\n",
    "\n",
    "## 배달건수 컬럼에서 건수가 모두 0인 행 제거\n",
    "clean_data1 = clean_data.drop(out_data.index).reset_index(drop = True)\n",
    "\n",
    "## 제거 데이터 확인\n",
    "# print(clean_data1)"
   ]
  },
  {
   "cell_type": "markdown",
   "id": "cf8fc0db",
   "metadata": {},
   "source": [
    "### 5. 습도값/풍속값 -1인 행 제거"
   ]
  },
  {
   "cell_type": "code",
   "execution_count": 23,
   "id": "2ded5ce1",
   "metadata": {
    "collapsed": true
   },
   "outputs": [
    {
     "name": "stdout",
     "output_type": "stream",
     "text": [
      "        광역시도명     시군구명          날짜  시간대별 시간 강수 유형명  습도값  강수량 값   기온값  풍속값  \\\n",
      "0         경기도      가평군  2019-12-17       17     없음   98    0.0   0.2  0.3   \n",
      "1         경기도  고양시 덕양구  2019-07-12       18     없음   91    0.0  22.6  1.5   \n",
      "2         경기도  고양시 덕양구  2019-07-19       21     없음   63    0.0  28.6  2.1   \n",
      "3         경기도  고양시 덕양구  2019-07-22       12     없음   92    0.0  25.9  1.0   \n",
      "4         경기도  고양시 덕양구  2019-07-22       15     없음   96    0.0  24.4  0.1   \n",
      "...       ...      ...         ...      ...    ...  ...    ...   ...  ...   \n",
      "189082  인천광역시       서구  2020-07-31       16     없음   96    0.0  24.4  0.3   \n",
      "189083  인천광역시       서구  2020-07-31       18     없음   98    0.0  24.6  1.5   \n",
      "189084  인천광역시       서구  2020-07-31       19      비   98    8.5  24.3  2.2   \n",
      "189085  인천광역시       서구  2020-07-31       20     없음   98    0.0  24.4  1.7   \n",
      "189086  인천광역시       서구  2020-07-31       21      비   97    0.0  24.6  1.7   \n",
      "\n",
      "        한식_배달건수  ...  돈까스/일식_배달건수  회_배달건수  피자_배달건수  아시안/양식_배달건수  중식_배달건수  \\\n",
      "0             0  ...            0       0        0            0        0   \n",
      "1             0  ...            0       0        0            0        0   \n",
      "2             0  ...            0       0        0            0        0   \n",
      "3             0  ...            0       0        0            0        0   \n",
      "4             0  ...            0       0        0            0        0   \n",
      "...         ...  ...          ...     ...      ...          ...      ...   \n",
      "189082        0  ...            0       0        0            0        0   \n",
      "189083        0  ...            0       0        0            0        0   \n",
      "189084        0  ...            0       0        0            0        0   \n",
      "189085        0  ...            0       0        0            0        0   \n",
      "189086        0  ...            0       0        0            0        0   \n",
      "\n",
      "        족발/보쌈_배달건수  야식_배달건수  찜탕_배달건수  도시락_배달건수  패스트푸드_배달건수  \n",
      "0                2        0        0         0           0  \n",
      "1                0        0        0         0           0  \n",
      "2                0        2        0         0           0  \n",
      "3                1        0        0         0           0  \n",
      "4                0        0        0         0           1  \n",
      "...            ...      ...      ...       ...         ...  \n",
      "189082           0        0        0         0           0  \n",
      "189083           0        0        0         0           0  \n",
      "189084           0        0        0         0           0  \n",
      "189085           0        0        0         0           0  \n",
      "189086           0        0        0         0           0  \n",
      "\n",
      "[189087 rows x 22 columns]\n"
     ]
    }
   ],
   "source": [
    "li = ['습도값','풍속값']\n",
    "for i in li:\n",
    "    ## 습도값/풍속값 -1인 행 추출\n",
    "    dr = clean_data1[clean_data1[i] == -1].index\n",
    "    \n",
    "    ## 습도값/풍속값 -1인 행 제거\n",
    "    clean_data1.drop(dr, inplace = True)\n",
    "    \n",
    "    ## 제거 후 인덱스 재정렬\n",
    "    clean_data2 = clean_data1.reset_index(drop = True)\n",
    "\n",
    "## 제거 데이터 확인\n",
    "# print(clean_data2)"
   ]
  },
  {
   "cell_type": "markdown",
   "id": "796ade02",
   "metadata": {},
   "source": [
    "### 6. 파생변수 생성 - 날짜별 배달 건수가 가장 높은 음식 컬럼 생성"
   ]
  },
  {
   "cell_type": "code",
   "execution_count": 25,
   "id": "486056ec",
   "metadata": {
    "collapsed": true
   },
   "outputs": [
    {
     "name": "stdout",
     "output_type": "stream",
     "text": [
      "        광역시도명     시군구명          날짜  시간대별 시간 강수 유형명  습도값  강수량 값   기온값  풍속값  \\\n",
      "0         경기도      가평군  2019-12-17       17     없음   98    0.0   0.2  0.3   \n",
      "1         경기도  고양시 덕양구  2019-07-12       18     없음   91    0.0  22.6  1.5   \n",
      "2         경기도  고양시 덕양구  2019-07-19       21     없음   63    0.0  28.6  2.1   \n",
      "3         경기도  고양시 덕양구  2019-07-22       12     없음   92    0.0  25.9  1.0   \n",
      "4         경기도  고양시 덕양구  2019-07-22       15     없음   96    0.0  24.4  0.1   \n",
      "...       ...      ...         ...      ...    ...  ...    ...   ...  ...   \n",
      "189082  인천광역시       서구  2020-07-31       16     없음   96    0.0  24.4  0.3   \n",
      "189083  인천광역시       서구  2020-07-31       18     없음   98    0.0  24.6  1.5   \n",
      "189084  인천광역시       서구  2020-07-31       19      비   98    8.5  24.3  2.2   \n",
      "189085  인천광역시       서구  2020-07-31       20     없음   98    0.0  24.4  1.7   \n",
      "189086  인천광역시       서구  2020-07-31       21      비   97    0.0  24.6  1.7   \n",
      "\n",
      "        한식_배달건수  ...  회_배달건수  피자_배달건수  아시안/양식_배달건수  중식_배달건수  족발/보쌈_배달건수  \\\n",
      "0             0  ...       0        0            0        0           2   \n",
      "1             0  ...       0        0            0        0           0   \n",
      "2             0  ...       0        0            0        0           0   \n",
      "3             0  ...       0        0            0        0           1   \n",
      "4             0  ...       0        0            0        0           0   \n",
      "...         ...  ...     ...      ...          ...      ...         ...   \n",
      "189082        0  ...       0        0            0        0           0   \n",
      "189083        0  ...       0        0            0        0           0   \n",
      "189084        0  ...       0        0            0        0           0   \n",
      "189085        0  ...       0        0            0        0           0   \n",
      "189086        0  ...       0        0            0        0           0   \n",
      "\n",
      "        야식_배달건수  찜탕_배달건수  도시락_배달건수  패스트푸드_배달건수     가장 많은 배달  \n",
      "0             0        0         0           0   족발/보쌈_배달건수  \n",
      "1             0        0         0           0  카페/디저트_배달건수  \n",
      "2             2        0         0           0      야식_배달건수  \n",
      "3             0        0         0           0   족발/보쌈_배달건수  \n",
      "4             0        0         0           1   패스트푸드_배달건수  \n",
      "...         ...      ...       ...         ...          ...  \n",
      "189082        0        0         0           0  카페/디저트_배달건수  \n",
      "189083        0        0         0           0  카페/디저트_배달건수  \n",
      "189084        0        0         0           0  카페/디저트_배달건수  \n",
      "189085        0        0         0           0  카페/디저트_배달건수  \n",
      "189086        0        0         0           0  카페/디저트_배달건수  \n",
      "\n",
      "[189087 rows x 23 columns]\n"
     ]
    }
   ],
   "source": [
    "## 한식_배달건수 ~ 패스트푸드_배달건수 컬럼까지 각 행별로 가장 높은 건수를 가진 컬럼 추출\n",
    "arr = []\n",
    "for i in range(len(clean_data2)):\n",
    "    ## 각 행에서 가장 높은 건수 추출\n",
    "    x = clean_data2.iloc[i,9:].max()\n",
    "    \n",
    "    ## 가장 높은 건수와 같은 데이터 True/False 확인\n",
    "    y = clean_data2.iloc[i,9:] == x\n",
    "    \n",
    "    ## True인 배달 항목 리스트화\n",
    "    z = y[y==1].index.to_list()\n",
    "    \n",
    "    ## 빈 리스트에 대입\n",
    "    arr.append(z[0])\n",
    "\n",
    "## 만든 리스트 clean_data2 데이터프레임에 새로운 컬럼 생성\n",
    "clean_data2['가장 많은 배달'] = arr\n",
    "\n",
    "## 생성 후 데이터 확인\n",
    "# print(clean_data2)"
   ]
  },
  {
   "cell_type": "code",
   "execution_count": 60,
   "id": "d6721725",
   "metadata": {
    "collapsed": true
   },
   "outputs": [
    {
     "name": "stdout",
     "output_type": "stream",
     "text": [
      "        광역시도명     시군구명          날짜  시간대별 시간 강수 유형명  습도값  강수량 값   기온값  풍속값  \\\n",
      "0         경기도      가평군  2019-12-17       17     없음   98    0.0   0.2  0.3   \n",
      "1         경기도  고양시 덕양구  2019-07-12       18     없음   91    0.0  22.6  1.5   \n",
      "2         경기도  고양시 덕양구  2019-07-19       21     없음   63    0.0  28.6  2.1   \n",
      "3         경기도  고양시 덕양구  2019-07-22       12     없음   92    0.0  25.9  1.0   \n",
      "4         경기도  고양시 덕양구  2019-07-22       15     없음   96    0.0  24.4  0.1   \n",
      "...       ...      ...         ...      ...    ...  ...    ...   ...  ...   \n",
      "189082  인천광역시       서구  2020-07-31       16     없음   96    0.0  24.4  0.3   \n",
      "189083  인천광역시       서구  2020-07-31       18     없음   98    0.0  24.6  1.5   \n",
      "189084  인천광역시       서구  2020-07-31       19      비   98    8.5  24.3  2.2   \n",
      "189085  인천광역시       서구  2020-07-31       20     없음   98    0.0  24.4  1.7   \n",
      "189086  인천광역시       서구  2020-07-31       21      비   97    0.0  24.6  1.7   \n",
      "\n",
      "        한식_배달건수  ...  회_배달건수  피자_배달건수  아시안/양식_배달건수  중식_배달건수  족발/보쌈_배달건수  \\\n",
      "0             0  ...       0        0            0        0           2   \n",
      "1             0  ...       0        0            0        0           0   \n",
      "2             0  ...       0        0            0        0           0   \n",
      "3             0  ...       0        0            0        0           1   \n",
      "4             0  ...       0        0            0        0           0   \n",
      "...         ...  ...     ...      ...          ...      ...         ...   \n",
      "189082        0  ...       0        0            0        0           0   \n",
      "189083        0  ...       0        0            0        0           0   \n",
      "189084        0  ...       0        0            0        0           0   \n",
      "189085        0  ...       0        0            0        0           0   \n",
      "189086        0  ...       0        0            0        0           0   \n",
      "\n",
      "        야식_배달건수  찜탕_배달건수  도시락_배달건수  패스트푸드_배달건수     가장 많은 배달  \n",
      "0             0        0         0           0   족발/보쌈_배달건수  \n",
      "1             0        0         0           0  카페/디저트_배달건수  \n",
      "2             2        0         0           0      야식_배달건수  \n",
      "3             0        0         0           0   족발/보쌈_배달건수  \n",
      "4             0        0         0           1   패스트푸드_배달건수  \n",
      "...         ...      ...       ...         ...          ...  \n",
      "189082        0        0         0           0  카페/디저트_배달건수  \n",
      "189083        0        0         0           0  카페/디저트_배달건수  \n",
      "189084        0        0         0           0  카페/디저트_배달건수  \n",
      "189085        0        0         0           0  카페/디저트_배달건수  \n",
      "189086        0        0         0           0  카페/디저트_배달건수  \n",
      "\n",
      "[189087 rows x 23 columns]\n"
     ]
    }
   ],
   "source": [
    "## 시간이 오래 걸리므로 저장\n",
    "# clean_data2.to_csv('clean_data2.csv', index= False, encoding = 'utf-8-sig')\n",
    "\n",
    "## 저장한 데이터 불러오기\n",
    "clean_data2 = pd.read_csv('clean_data2.csv')\n",
    "# print(clean_data2)"
   ]
  },
  {
   "cell_type": "markdown",
   "id": "aa530ced",
   "metadata": {},
   "source": [
    "### 7. 파생변수 생성 - 년/월/일/요일 컬럼 생성"
   ]
  },
  {
   "cell_type": "code",
   "execution_count": 3,
   "id": "3cedaa49",
   "metadata": {},
   "outputs": [],
   "source": [
    "## 분리 쉽게 하기 위해 '날짜' 컬럼 --> datetime 타입으로 변경\n",
    "clean_data2['날짜'] = pd.to_datetime(clean_data2['날짜'], format = '%Y-%m-%d')\n",
    "\n",
    "## 년도 컬럼 생성\n",
    "clean_data2['년도'] = clean_data2['날짜'].dt.year\n",
    "\n",
    "## 월\n",
    "clean_data2['월'] = clean_data2['날짜'].dt.month\n",
    "\n",
    "## 일\n",
    "clean_data2['일'] = clean_data2['날짜'].dt.day\n",
    "\n",
    "## 요일\n",
    "clean_data2['요일'] = clean_data2['날짜'].dt.dayofweek\n",
    "\n",
    "## 생성 후 데이터 확인\n",
    "# print(clean_data2)"
   ]
  },
  {
   "cell_type": "markdown",
   "id": "c2288cf4",
   "metadata": {},
   "source": [
    "### 8. 파생변수 생성 - 계절 컬럼 생성"
   ]
  },
  {
   "cell_type": "code",
   "execution_count": 4,
   "id": "929be2c8",
   "metadata": {},
   "outputs": [],
   "source": [
    "## 계절 컬럼 생성\n",
    "## (봄=0, 여름=1, 가을=2, 겨울=3)\n",
    "\n",
    "## 빈 컬럼 생성\n",
    "clean_data2['계절'] = 0\n",
    "\n",
    "## 3,4,5 --> 봄 \n",
    "clean_data2.loc[(clean_data2['월'] == 3) | (clean_data2['월'] == 4) | (clean_data2['월'] == 5), '계절'] = 0\n",
    "\n",
    "## 6,7,8 --> 여름\n",
    "clean_data2.loc[(clean_data2['월'] == 6) | (clean_data2['월'] == 7) | (clean_data2['월'] == 8), '계절'] = 1\n",
    "\n",
    "## 9,10,11 --> 가을\n",
    "clean_data2.loc[(clean_data2['월'] == 9) | (clean_data2['월'] == 10) | (clean_data2['월'] == 11), '계절'] = 2\n",
    "\n",
    "## 12,1,2 --> 겨울\n",
    "clean_data2.loc[(clean_data2['월'] == 12) | (clean_data2['월'] == 1) | (clean_data2['월'] == 2), '계절'] = 3\n",
    "\n",
    "## 생성 후 데이터 확인\n",
    "# print(clean_data2)"
   ]
  },
  {
   "cell_type": "markdown",
   "id": "d9f9f861",
   "metadata": {},
   "source": [
    "### 9. 파생변수 생성 - 불쾌지수 컬럼 생성"
   ]
  },
  {
   "cell_type": "code",
   "execution_count": 5,
   "id": "3c757a68",
   "metadata": {},
   "outputs": [],
   "source": [
    "## 불쾌지수 생성 위한 습도(humidity) 단위 변경\n",
    "clean_data2['습도값'] = clean_data2['습도값']/100\n",
    "    \n",
    "## 불쾌지수(Discomfort Index) 공식 \n",
    "clean_data2['불쾌지수'] = 1.8*clean_data2['기온값'] - 0.55*(1-clean_data2['습도값'])*(1.8*clean_data2['기온값'] - 26) + 32\n",
    "\n",
    "## 생성 후 데이터 확인\n",
    "# print(clean_data2)"
   ]
  },
  {
   "cell_type": "markdown",
   "id": "9598e0b8",
   "metadata": {},
   "source": [
    "### 10. 경기도 시군구명 합치기 "
   ]
  },
  {
   "cell_type": "code",
   "execution_count": 6,
   "id": "30038f30",
   "metadata": {},
   "outputs": [],
   "source": [
    "## 경기도 시군구명 합치기\n",
    "clean_data2.loc[(clean_data2['시군구명'] == '고양시 덕양구') | (clean_data2['시군구명'] == '고양시 일산동구') | (clean_data2['시군구명'] == '고양시 일산서구'), '시군구명'] = '고양시'\n",
    "clean_data2.loc[(clean_data2['시군구명'] == '성남시 수정구') | (clean_data2['시군구명'] == '성남시 중원구'), '시군구명'] = '성남시'\n",
    "clean_data2.loc[(clean_data2['시군구명'] == '수원시 권선구') | (clean_data2['시군구명'] == '수원시 장안구') | (clean_data2['시군구명'] == '수원시 팔달구'), '시군구명'] = '수원시'\n",
    "clean_data2.loc[(clean_data2['시군구명'] == '안산시 단원구') | (clean_data2['시군구명'] == '안산시 상록구'), '시군구명'] = '안산시'\n",
    "clean_data2.loc[(clean_data2['시군구명'] == '안양시 동안구') | (clean_data2['시군구명'] == '안양시 만안구'), '시군구명'] = '안양시'\n",
    "clean_data2.loc[(clean_data2['시군구명'] == '용인시 수지구') | (clean_data2['시군구명'] == '용인시 처인구'), '시군구명'] = '용인시'\n",
    "\n",
    "## 합친 후 데이터 확인\n",
    "# print(clean_data2['시군구명'].unique())"
   ]
  },
  {
   "cell_type": "markdown",
   "id": "e27d3671",
   "metadata": {},
   "source": [
    "### 11. 필요 없는 행 제거 "
   ]
  },
  {
   "cell_type": "code",
   "execution_count": 7,
   "id": "7e9b086c",
   "metadata": {},
   "outputs": [],
   "source": [
    "## 1). 시군구 행 개수가 50개 이하인 시군구 제거\n",
    "\n",
    "## 각 시군구 갯수 파악\n",
    "x = clean_data2['시군구명'].value_counts()\n",
    "\n",
    "## 시군구 갯수가 50개 이하인 시군구 파악 \n",
    "a = x[x<=50].index\n",
    "\n",
    "## 50개 이하 시군구 제거\n",
    "for i in a:\n",
    "    t = clean_data2[clean_data2['시군구명'] == i]\n",
    "    k = t.index\n",
    "    clean_data2 = clean_data2.drop(index = k)\n",
    "    clean_data2 = clean_data2.reset_index(drop = True)\n",
    "\n",
    "## 제거 후 데이터 확인\n",
    "# print(clean_data2)\n",
    "\n",
    "## 2). 인천 -> 부평구를 제외한 시군구 제거\n",
    "## 부평구를 제외한 모든 구에서 분포가 하나의 업종에 과하게 분포 하여 제외\n",
    "li = ['남동구','미추홀구','서구','계양구']\n",
    "for i in li:\n",
    "    ## 제거할 시군구의 index 추출\n",
    "    dr = clean_data2[clean_data2['시군구명'] == i].index\n",
    "    \n",
    "    ## 시군구 제거\n",
    "    clean_data2 = clean_data2.drop(index = dr)\n",
    "    \n",
    "    ## 데이터 행 제조정\n",
    "    clean_data2 = clean_data2.reset_index(drop = True)\n",
    "    \n",
    "## 제거 후 데이터 확인\n",
    "# print(clean_data2)"
   ]
  },
  {
   "cell_type": "markdown",
   "id": "77e5c318",
   "metadata": {},
   "source": [
    "### 12. 컬럼 인코딩"
   ]
  },
  {
   "cell_type": "code",
   "execution_count": 8,
   "id": "5355484e",
   "metadata": {},
   "outputs": [],
   "source": [
    "## 1). 강수 유형명 컬럼 인코딩\n",
    "##눈과 진눈깨비는 데이터 분포가 너무 적어 비와 통합 \n",
    "clean_data2['강수 유형명'] = clean_data2['강수 유형명'].replace({'없음':0,'비':1,'눈':1,'진눈개비':1})\n",
    "\n",
    "## 2). 가장 많은 배달 인코딩\n",
    "clean_data2['가장 많은 배달'] = clean_data2['가장 많은 배달'].astype('category') # category 타입으로 변경\n",
    "clean_data2['가장 많은 배달'] = clean_data2['가장 많은 배달'].cat.codes # 가,나,다 순으로 자동 인코딩\n",
    "\n",
    "## 3). 광역시도명 컬럼 인코딩\n",
    "clean_data2['광역시도명'] = clean_data2['광역시도명'].replace({'경기도':0, '서울특별시':1, '인천광역시':2})\n",
    "\n",
    "## 4). 시군구명 컬럼 인코딩\n",
    "region_index_dict = {region:num for num,region in enumerate(np.unique(clean_data2['시군구명'].value_counts().index))}\n",
    "clean_data2['시군구명'] = clean_data2['시군구명'].replace(region_index_dict)\n",
    "\n",
    "## 인코딩 후 데이터 확인\n",
    "# print(clean_data2)"
   ]
  },
  {
   "cell_type": "markdown",
   "id": "b20009e6",
   "metadata": {},
   "source": [
    "### 13. 연속적인 달을 가진 시군구 추출"
   ]
  },
  {
   "cell_type": "code",
   "execution_count": 9,
   "id": "0b6f8c12",
   "metadata": {},
   "outputs": [],
   "source": [
    "'''\n",
    "경기 = [4,7,10,14,18,22,26,27,28,29,30,34,36,39,43,44,45,46]\n",
    "\n",
    "서울 = [2,3,6,9,12,16,20,24,31,35,37]\n",
    "인천 = [19]\n",
    "'''\n",
    "## 서울, 경기, 인천 시군구 추출\n",
    "cond = [4,7,10,14,18,22,26,27,28,29,30,34,36,39,43,44,45,46,\n",
    "       2,3,6,9,12,16,20,24,31,35,37,\n",
    "       19]\n",
    "clean_data3 = clean_data2[clean_data2['시군구명'].isin(cond)]\n",
    "\n",
    "## 추출 후 데이터 확인\n",
    "# print(clean_data3)"
   ]
  },
  {
   "cell_type": "markdown",
   "id": "905b61de",
   "metadata": {},
   "source": [
    "### 14. Stratify 가능한 시군구 추출"
   ]
  },
  {
   "cell_type": "code",
   "execution_count": 10,
   "id": "5596bf81",
   "metadata": {},
   "outputs": [],
   "source": [
    "## [2, 3, 4, 7, 9, 12, 14, 16, 18, 19, 24, 27, 28, 29, 35, 36, 37, 39, 44, 45, 46]\n",
    "cond = [2, 3, 4, 7, 9, 12, 14, 16, 18, 19, 24, 27, 28, 29, 35, 36, 37, 39, 44, 45, 46]\n",
    "clean_data3 = clean_data3.loc[clean_data3['시군구명'].isin(cond)]\n",
    "\n",
    "## 추출 후 데이터 확인 \n",
    "# print(clean_data3)"
   ]
  },
  {
   "cell_type": "markdown",
   "id": "d7e0465f",
   "metadata": {},
   "source": [
    "### 15. 지역별 배달업종 제거"
   ]
  },
  {
   "cell_type": "code",
   "execution_count": 11,
   "id": "112686bb",
   "metadata": {},
   "outputs": [],
   "source": [
    "### 배달 업종이 골고루 있지만 stratify가 불가능하도록 하는 배달 업종 제거\n",
    "\n",
    "## 1). 경기도 의정부 배달업종 6 제거\n",
    "x1 = clean_data3.loc[(clean_data3['시군구명'] == 39)&(clean_data3['가장 많은 배달'] == 6)].index\n",
    "clean_data3 = clean_data3.drop(index = x1)\n",
    "\n",
    "## 2). 인천 부평 배달업종 12 제거\n",
    "x2 = clean_data3.loc[(clean_data3['시군구명'] == 19)&(clean_data3['가장 많은 배달'] == 12)].index\n",
    "clean_data3 = clean_data3.drop(index= x2)\n",
    "\n",
    "## 데이터 행 재정렬\n",
    "clean_data3 = clean_data3.reset_index(drop = True)\n",
    "\n",
    "## 제거 후 데이터 확인\n",
    "# print(clean_data3)"
   ]
  },
  {
   "cell_type": "markdown",
   "id": "5c211017",
   "metadata": {},
   "source": [
    "### 16. 전처리 완료 최종 데이터 저장"
   ]
  },
  {
   "cell_type": "code",
   "execution_count": 12,
   "id": "acb93bb4",
   "metadata": {},
   "outputs": [],
   "source": [
    "## 최종 데이터 저장\n",
    "clean_data3.to_csv('final_data.csv', index= False, encoding = 'utf-8-sig')\n",
    "\n",
    "## 저장 확인\n",
    "final_data = pd.read_csv('final_data.csv')\n",
    "# print(final_data)"
   ]
  }
 ],
 "metadata": {
  "kernelspec": {
   "display_name": "Python 3 (ipykernel)",
   "language": "python",
   "name": "python3"
  },
  "language_info": {
   "codemirror_mode": {
    "name": "ipython",
    "version": 3
   },
   "file_extension": ".py",
   "mimetype": "text/x-python",
   "name": "python",
   "nbconvert_exporter": "python",
   "pygments_lexer": "ipython3",
   "version": "3.10.9"
  }
 },
 "nbformat": 4,
 "nbformat_minor": 5
}
